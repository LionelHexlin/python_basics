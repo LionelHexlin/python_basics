{
 "cells": [
  {
   "cell_type": "code",
   "execution_count": 5,
   "id": "a82dea5d",
   "metadata": {},
   "outputs": [
    {
     "name": "stdout",
     "output_type": "stream",
     "text": [
      "Sub-fields in AI are:\n",
      "Machine Learning\n",
      "Neural Network\n",
      "Vision\n",
      "Robotics\n",
      "Speech Processing\n",
      "Natural Language Processing\n"
     ]
    }
   ],
   "source": [
    "#create FUnction\n",
    "\n",
    "def subFields(list):\n",
    "    print(\"Sub-fields in AI are:\")\n",
    "    for ls in list:\n",
    "        print(ls)\n",
    "\n",
    "list = [\"Machine Learning\", \"Neural Network\", \"Vision\", \"Robotics\", \"Speech Processing\", \"Natural Language Processing\"]\n",
    "subFields(list)"
   ]
  },
  {
   "cell_type": "code",
   "execution_count": 4,
   "id": "e055d39c",
   "metadata": {},
   "outputs": [
    {
     "name": "stdout",
     "output_type": "stream",
     "text": [
      "67 is Odd number\n"
     ]
    }
   ],
   "source": [
    "#Odd or Even Number\n",
    "\n",
    "def oddEven(num):\n",
    "    if(num%2 == 0):\n",
    "        print(num,\"is Even number\")\n",
    "    else:\n",
    "        print(num,\"is Odd number\")\n",
    "\n",
    "num = int(input(\"Enter a number:\"))\n",
    "oddEven(num)"
   ]
  },
  {
   "cell_type": "code",
   "execution_count": null,
   "id": "672588ba",
   "metadata": {},
   "outputs": [
    {
     "name": "stdout",
     "output_type": "stream",
     "text": [
      "Not Eligible\n"
     ]
    }
   ],
   "source": [
    "def eligible():\n",
    "    if(gender == \"Male\"):\n",
    "        if(age > 21):\n",
    "            print(\"Eligible\")\n",
    "        else:\n",
    "            print(\"Not Eligible\")\n",
    "    elif(gender == \"Female\"):\n",
    "        if(age > 18):\n",
    "            print(\"Eligible\")\n",
    "        else:\n",
    "            print(\"Not Eligible\")\n",
    "    else:\n",
    "        print(\"Invalid Entry\")\n",
    "    \n",
    "\n",
    "gender = input(\"Enter Gender\")\n",
    "age = int(input(\"Enter Age\"))\n",
    "eligible()"
   ]
  },
  {
   "cell_type": "code",
   "execution_count": null,
   "id": "23c7dad4",
   "metadata": {},
   "outputs": [
    {
     "name": "stdout",
     "output_type": "stream",
     "text": [
      "Total : 364\n",
      "Subject1= 87\n",
      "Subject2= 67\n",
      "Subject3= 56\n",
      "Subject4= 76\n",
      "Subject5= 78\n",
      "Percentage : 72.8\n"
     ]
    }
   ],
   "source": [
    "def percentage():\n",
    "    total = subject1 + subject2 + subject3 + subject4 + subject5\n",
    "    print(\"Total :\", total)\n",
    "    return total/5\n",
    "\n",
    "subject1 = int(input(\"Enter Subject1:\"))\n",
    "subject2 = int(input(\"Enter Subject2:\"))\n",
    "subject3 = int(input(\"Enter Subject3:\"))\n",
    "subject4 = int(input(\"Enter Subject4:\"))\n",
    "subject5 = int(input(\"Enter Subject5:\"))\n",
    "percentage = percentage()\n",
    "print(\"Subject1=\",subject1)\n",
    "print(\"Subject2=\",subject2)\n",
    "print(\"Subject3=\",subject3)\n",
    "print(\"Subject4=\",subject4)\n",
    "print(\"Subject5=\",subject5)\n",
    "print(\"Percentage :\", percentage)"
   ]
  },
  {
   "cell_type": "code",
   "execution_count": 12,
   "id": "948f34a4",
   "metadata": {},
   "outputs": [
    {
     "name": "stdout",
     "output_type": "stream",
     "text": [
      "Height: 3\n",
      "Breadth: 4\n",
      "Area formula: (height*breadth)/2\n",
      "Area of Triangle: 6.0\n",
      "Perimeter formula: (height1 + height2 + breadth)\n",
      "Perimeter of Triangle: 52\n"
     ]
    }
   ],
   "source": [
    "def triangle():\n",
    "    height = int(input(\"Enter height:\"))\n",
    "    breadth = int(input(\"Enter breadth:\"))\n",
    "    area = (height * breadth) / 2\n",
    "    print(\"Height:\",height)\n",
    "    print(\"Breadth:\", breadth)\n",
    "    print(\"Area formula: (height*breadth)/2\")\n",
    "    print(\"Area of Triangle:\", area)\n",
    "\n",
    "    height1 = int(input(\"Enter height1:\"))\n",
    "    height2 = int(input(\"Enter height2:\"))\n",
    "    breadth = int(input(\"Enter breadth:\"))\n",
    "    perimeter = height1 + height2 + breadth\n",
    "    print(\"Perimeter formula: (height1 + height2 + breadth)\")\n",
    "    print(\"Perimeter of Triangle:\", perimeter)\n",
    "\n",
    "triangle()\n"
   ]
  }
 ],
 "metadata": {
  "kernelspec": {
   "display_name": "Python 3",
   "language": "python",
   "name": "python3"
  },
  "language_info": {
   "codemirror_mode": {
    "name": "ipython",
    "version": 3
   },
   "file_extension": ".py",
   "mimetype": "text/x-python",
   "name": "python",
   "nbconvert_exporter": "python",
   "pygments_lexer": "ipython3",
   "version": "3.11.0"
  }
 },
 "nbformat": 4,
 "nbformat_minor": 5
}
