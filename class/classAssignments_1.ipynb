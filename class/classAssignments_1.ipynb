{
 "cells": [
  {
   "cell_type": "code",
   "execution_count": null,
   "id": "dbbc87d4",
   "metadata": {},
   "outputs": [
    {
     "name": "stdout",
     "output_type": "stream",
     "text": [
      "Sub-fields in AI are:\n",
      "Machine Learning\n",
      "Neural Network\n",
      "Vision\n",
      "Robotics\n",
      "Speech Processing\n",
      "Natural Language Processing\n"
     ]
    }
   ],
   "source": [
    "# Create a class and function, and list out the items in the list\n",
    "\n",
    "from SubfieldsInAI import SubfieldsInAI\n",
    "\n",
    "list = [\"Machine Learning\", \"Neural Network\", \"Vision\", \"Robotics\", \"Speech Processing\", \"Natural Language Processing\"]\n",
    "SubfieldsInAI.subFields(list)"
   ]
  },
  {
   "cell_type": "code",
   "execution_count": 5,
   "id": "c3d1ecb1",
   "metadata": {},
   "outputs": [
    {
     "name": "stdout",
     "output_type": "stream",
     "text": [
      "67 is Odd number\n"
     ]
    }
   ],
   "source": [
    "# Create a function that checks whether the given number is Odd or Even\n",
    "from OddEven import OddEven\n",
    "\n",
    "num = int(input(\"Enter a number:\"))\n",
    "OddEven.oddEven(num)"
   ]
  },
  {
   "cell_type": "code",
   "execution_count": 9,
   "id": "25ce5ab0",
   "metadata": {},
   "outputs": [
    {
     "name": "stdout",
     "output_type": "stream",
     "text": [
      "Invalid Entry\n"
     ]
    }
   ],
   "source": [
    "from ElegiblityForMarriage import ElegiblityForMarriage\n",
    "\n",
    "gender = input(\"Enter Gender\")\n",
    "age = int(input(\"Enter Age\"))\n",
    "ElegiblityForMarriage.eligible(gender, age)"
   ]
  },
  {
   "cell_type": "code",
   "execution_count": 10,
   "id": "5a2dfe24",
   "metadata": {},
   "outputs": [
    {
     "name": "stdout",
     "output_type": "stream",
     "text": [
      "Subject1= 67\n",
      "Subject2= 87\n",
      "Subject3= 98\n",
      "Subject4= 78\n",
      "Subject5= 90\n",
      "Total : 420\n",
      "Percentage : 84.0\n"
     ]
    }
   ],
   "source": [
    "from FindPercentage import FindPercent\n",
    "\n",
    "percentage = FindPercent.percentage()\n",
    "print(\"Percentage :\", percentage)"
   ]
  },
  {
   "cell_type": "code",
   "execution_count": 12,
   "id": "785b58da",
   "metadata": {},
   "outputs": [
    {
     "name": "stdout",
     "output_type": "stream",
     "text": [
      "Height: 7\n",
      "Breadth: 6\n",
      "Area formula: (height*breadth)/2\n",
      "Area of Triangle: 21.0\n",
      "Perimeter formula: (height1 + height2 + breadth)\n",
      "Perimeter of Triangle: 101\n"
     ]
    }
   ],
   "source": [
    "from Triangle import Triangle\n",
    "\n",
    "Triangle.triangle()"
   ]
  }
 ],
 "metadata": {
  "kernelspec": {
   "display_name": "Python 3",
   "language": "python",
   "name": "python3"
  },
  "language_info": {
   "codemirror_mode": {
    "name": "ipython",
    "version": 3
   },
   "file_extension": ".py",
   "mimetype": "text/x-python",
   "name": "python",
   "nbconvert_exporter": "python",
   "pygments_lexer": "ipython3",
   "version": "3.11.0"
  }
 },
 "nbformat": 4,
 "nbformat_minor": 5
}
