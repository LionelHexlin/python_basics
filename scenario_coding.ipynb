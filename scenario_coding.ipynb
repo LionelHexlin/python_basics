{
 "cells": [
  {
   "cell_type": "code",
   "execution_count": 2,
   "id": "1a1b3006",
   "metadata": {},
   "outputs": [
    {
     "name": "stdout",
     "output_type": "stream",
     "text": [
      "Not Eligible\n"
     ]
    }
   ],
   "source": [
    "\"\"\"A system checks if a user is eligible to vote based on their age.\n",
    " Write logic to ask the user for their age and determine if they are eligible to vote based on whether they are 18 or older.\n",
    "\"\"\"\n",
    "def userEligible(age):\n",
    "    if(age >= 18):\n",
    "        return True\n",
    "    return False\n",
    "\n",
    "age = int(input(\"Enter the Age:\"))\n",
    "if(userEligible(age)):\n",
    "    print(\"Eligible\")\n",
    "else:\n",
    "    print(\"Not Eligible\")\n"
   ]
  },
  {
   "cell_type": "code",
   "execution_count": 7,
   "id": "92da59d7",
   "metadata": {},
   "outputs": [
    {
     "name": "stdout",
     "output_type": "stream",
     "text": [
      "685\n",
      "685\n"
     ]
    }
   ],
   "source": [
    "\"\"\"A program processes a list of numbers and needs to find the largest value.\n",
    " Write logic to identify and return the largest number from a given list.\n",
    "\"\"\"\n",
    "\n",
    "def maxNumber(list):\n",
    "    temp = 0\n",
    "    for num in list:\n",
    "        if(temp < num):\n",
    "            temp = num\n",
    "    return temp\n",
    "\n",
    "list = [56, 23, 54, 67, 182, 685, 109, 453, 654]\n",
    "\n",
    "print(maxNumber(list))\n",
    "\n",
    "print(max(list))"
   ]
  },
  {
   "cell_type": "code",
   "execution_count": 11,
   "id": "9c384e50",
   "metadata": {},
   "outputs": [
    {
     "name": "stdout",
     "output_type": "stream",
     "text": [
      "85800.0\n"
     ]
    }
   ],
   "source": [
    "\"\"\"A company provides employees with a 10% bonus if their salary exceeds $50,000.\n",
    " Write logic to determine the bonus amount based on the given salary.\n",
    "\"\"\"\n",
    "\n",
    "def processSalary():\n",
    "    currentSalary = int(input(\"Enter the Salary\"))\n",
    "    bonus = 10\n",
    "    salary = currentSalary + (currentSalary * bonus/100)\n",
    "    return salary\n",
    "\n",
    "print(processSalary())"
   ]
  },
  {
   "cell_type": "code",
   "execution_count": 12,
   "id": "3fefcbfd",
   "metadata": {},
   "outputs": [
    {
     "name": "stdout",
     "output_type": "stream",
     "text": [
      "78 is a Even Number\n"
     ]
    }
   ],
   "source": [
    "\"\"\"A program evaluates a number to determine if it is even or odd.\n",
    " Write logic to check whether a given number is even or odd.\n",
    "\"\"\"\n",
    "\n",
    "def oddOrEven(num):\n",
    "    if(num %2 == 0):\n",
    "        print(num, \"is a Even Number\")\n",
    "    else:\n",
    "        print(num, \"is a Odd Number\")\n",
    "\n",
    "num = int(input(\"Enter the Number to check:\"))\n",
    "oddOrEven(num)"
   ]
  },
  {
   "cell_type": "code",
   "execution_count": null,
   "id": "4ac5da1c",
   "metadata": {},
   "outputs": [
    {
     "name": "stdout",
     "output_type": "stream",
     "text": [
      "olleH\n"
     ]
    }
   ],
   "source": [
    "\"\"\"A text-processing tool reverses a given word or sentence for formatting purposes.\n",
    " Write logic to take a word or sentence as input and produce its reversed version.\n",
    "\"\"\"\n",
    "\n",
    "value = \"Hello\"\n",
    "reverseStr = \"\"\n",
    "for char in value:\n",
    "    reverseStr = char + reverseStr\n",
    "\n",
    "print(reverseStr)\n"
   ]
  },
  {
   "cell_type": "code",
   "execution_count": 21,
   "id": "25b78c7d",
   "metadata": {},
   "outputs": [
    {
     "name": "stdout",
     "output_type": "stream",
     "text": [
      "Passed\n"
     ]
    }
   ],
   "source": [
    "\"\"\"A grading system determines whether a student has passed or failed based on their score.\n",
    " Write logic to check if a student has passed a subject by scoring at least 40 marks.\"\"\"\n",
    "\n",
    "score = int(input(\"Enter the mark:\"))\n",
    "if(score >= 40):\n",
    "    print(\"Passed\")\n",
    "else:\n",
    "    print(\"Failed\")"
   ]
  },
  {
   "cell_type": "code",
   "execution_count": 24,
   "id": "47547e8c",
   "metadata": {},
   "outputs": [
    {
     "name": "stdout",
     "output_type": "stream",
     "text": [
      "800.0\n"
     ]
    }
   ],
   "source": [
    "\"\"\"A retail store offers a 20% discount if a customer’s total order exceeds $100. \n",
    "Write logic to calculate the final amount to be paid after applying the discount.\"\"\"\n",
    "\n",
    "total = int(input(\"Enter the total:\"))\n",
    "if(total > 100):\n",
    "    total = total - (total * 20/100)\n",
    "\n",
    "print(total)"
   ]
  },
  {
   "cell_type": "code",
   "execution_count": 25,
   "id": "08b3e914",
   "metadata": {},
   "outputs": [
    {
     "name": "stdout",
     "output_type": "stream",
     "text": [
      "Windrawal Completed\n",
      "18800\n"
     ]
    }
   ],
   "source": [
    "\"\"\"A banking system processes withdrawal requests and ensures the user has enough balance.\n",
    "\n",
    " Write logic to check if a user has enough balance before allowing a withdrawal \n",
    " and update the remaining balance accordingly.\n",
    "\"\"\"\n",
    "\n",
    "balance = 19000\n",
    "withdarwAmount = int(input(\"Enter the amount:\"))\n",
    "if(withdarwAmount > balance):\n",
    "    print(\"Not Enough Balance\")\n",
    "else:\n",
    "    print(\"Windrawal Completed\")\n",
    "    balance -= withdarwAmount\n",
    "\n",
    "print(balance)\n"
   ]
  },
  {
   "cell_type": "code",
   "execution_count": 28,
   "id": "cb45ee1d",
   "metadata": {},
   "outputs": [
    {
     "name": "stdout",
     "output_type": "stream",
     "text": [
      "2008 is a leap year.\n"
     ]
    }
   ],
   "source": [
    "def isLeapYear(year):\n",
    "    if (year % 4 == 0) and (year % 100 != 0 or year % 400 == 0):\n",
    "        return True\n",
    "    else:\n",
    "        return False\n",
    "\n",
    "year = int(input(\"Enter a year:\"))\n",
    "if isLeapYear(year):\n",
    "    print(year,\"is a leap year.\")\n",
    "else:\n",
    "    print(year,\"is not a leap year.\")\n"
   ]
  },
  {
   "cell_type": "code",
   "execution_count": 29,
   "id": "e7255c8c",
   "metadata": {},
   "outputs": [
    {
     "name": "stdout",
     "output_type": "stream",
     "text": [
      "56\n",
      "54\n",
      "182\n",
      "654\n"
     ]
    }
   ],
   "source": [
    "\"\"\"A program filters out only even numbers from a given list.\n",
    " Write logic to extract and return only the even numbers from a list.\n",
    "\"\"\"\n",
    "\n",
    "def evenNum(list):\n",
    "    for ls in list:\n",
    "        if(ls %2 == 0):\n",
    "            print(ls)\n",
    "\n",
    "list = [56, 23, 54, 67, 182, 685, 109, 453, 654]\n",
    "evenNum(list)"
   ]
  }
 ],
 "metadata": {
  "kernelspec": {
   "display_name": "Python 3",
   "language": "python",
   "name": "python3"
  },
  "language_info": {
   "codemirror_mode": {
    "name": "ipython",
    "version": 3
   },
   "file_extension": ".py",
   "mimetype": "text/x-python",
   "name": "python",
   "nbconvert_exporter": "python",
   "pygments_lexer": "ipython3",
   "version": "3.11.0"
  }
 },
 "nbformat": 4,
 "nbformat_minor": 5
}
